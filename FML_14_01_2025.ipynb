{
  "nbformat": 4,
  "nbformat_minor": 0,
  "metadata": {
    "colab": {
      "provenance": [],
      "authorship_tag": "ABX9TyP4x6l6c5wKb0VI8vLQYDQ4",
      "include_colab_link": true
    },
    "kernelspec": {
      "name": "python3",
      "display_name": "Python 3"
    },
    "language_info": {
      "name": "python"
    }
  },
  "cells": [
    {
      "cell_type": "markdown",
      "metadata": {
        "id": "view-in-github",
        "colab_type": "text"
      },
      "source": [
        "<a href=\"https://colab.research.google.com/github/akshitjain1/AUTO-NO/blob/main/FML_14_01_2025.ipynb\" target=\"_parent\"><img src=\"https://colab.research.google.com/assets/colab-badge.svg\" alt=\"Open In Colab\"/></a>"
      ]
    },
    {
      "cell_type": "code",
      "execution_count": null,
      "metadata": {
        "colab": {
          "base_uri": "https://localhost:8080/"
        },
        "id": "gnR6oKRwmGBd",
        "outputId": "b0f0514c-1a8a-4f1e-aad2-b82ce29cd8b8"
      },
      "outputs": [
        {
          "output_type": "stream",
          "name": "stdout",
          "text": [
            "Welcome to Foundation of ML class\n",
            "addition: 6\n",
            "division: 0.0\n",
            "Subtraction: -6\n",
            "Multiplication: 0\n",
            "Power: 0\n",
            "Modulus: 0\n",
            "Number is Zero\n"
          ]
        }
      ],
      "source": [
        "print(\"Welcome to Foundation of ML class\")\n",
        "a=0\n",
        "b=6\n",
        "print(\"addition:\",a+b)\n",
        "print(\"division:\",a/b)\n",
        "print(\"Subtraction:\",a-b)\n",
        "print(\"Multiplication:\",a*b)\n",
        "print(\"Power:\",a**b)\n",
        "print(\"Modulus:\",a%b)\n",
        "if (a%2==0 and a!=0):\n",
        "  print(\"Number is even\")\n",
        "elif a==0:\n",
        "  print(\"Number is Zero\")\n",
        "else:\n",
        "  print(\"Number is odd\")"
      ]
    },
    {
      "cell_type": "code",
      "source": [
        "print(\"Welcome to Foundation of ML class\")\n",
        "\n",
        "i = 0\n",
        "while i < 5:\n",
        "  print(i)\n",
        "  i += 1\n"
      ],
      "metadata": {
        "colab": {
          "base_uri": "https://localhost:8080/"
        },
        "id": "z-v0eTiYorEl",
        "outputId": "ef58fe87-3f44-4821-9516-5f4c64464d20"
      },
      "execution_count": null,
      "outputs": [
        {
          "output_type": "stream",
          "name": "stdout",
          "text": [
            "Welcome to Foundation of ML class\n",
            "0\n",
            "1\n",
            "2\n",
            "3\n",
            "4\n"
          ]
        }
      ]
    },
    {
      "cell_type": "code",
      "source": [
        "for i in range(6):\n",
        "  print(i+1)"
      ],
      "metadata": {
        "colab": {
          "base_uri": "https://localhost:8080/"
        },
        "id": "DT0mjuulo7IZ",
        "outputId": "453b7c80-8c03-422d-a433-ec39bb531c76"
      },
      "execution_count": null,
      "outputs": [
        {
          "output_type": "stream",
          "name": "stdout",
          "text": [
            "1\n",
            "2\n",
            "3\n",
            "4\n",
            "5\n",
            "6\n"
          ]
        }
      ]
    },
    {
      "cell_type": "code",
      "source": [
        "\n",
        "def foundation_of_ml(n):\n",
        "    factorial=1\n",
        "    for i in range(1,n+1):\n",
        "        factorial=factorial*i\n",
        "    print(\"Factorial of\",n,\"is\",factorial)\n",
        "foundation_of_ml(5)"
      ],
      "metadata": {
        "colab": {
          "base_uri": "https://localhost:8080/"
        },
        "id": "K57aQ3EupvGI",
        "outputId": "c9fe12d1-7f04-4dd8-ae90-accfbfd48df8"
      },
      "execution_count": null,
      "outputs": [
        {
          "output_type": "stream",
          "name": "stdout",
          "text": [
            "Factorial of 5 is 120\n"
          ]
        }
      ]
    },
    {
      "cell_type": "code",
      "source": [
        "def fibonacci_series(n):\n",
        "    a, b = 0, 1\n",
        "    if n <= 0:\n",
        "        print(\"Please enter a positive integer\")\n",
        "    elif n == 1:\n",
        "        print(a)\n",
        "    else:\n",
        "        print(a)\n",
        "        print(b)\n",
        "        for i in range(2, n):\n",
        "            c = a + b\n",
        "            a = b\n",
        "            b = c\n",
        "            print(c)\n",
        "fibonacci_series(10)"
      ],
      "metadata": {
        "colab": {
          "base_uri": "https://localhost:8080/"
        },
        "id": "xLiehyEMreOQ",
        "outputId": "42aad863-2fa2-48f6-fa94-8ee551d8dc5e"
      },
      "execution_count": null,
      "outputs": [
        {
          "output_type": "stream",
          "name": "stdout",
          "text": [
            "0\n",
            "1\n",
            "1\n",
            "2\n",
            "3\n",
            "5\n",
            "8\n",
            "13\n",
            "21\n",
            "34\n"
          ]
        }
      ]
    },
    {
      "cell_type": "code",
      "source": [
        "import numpy as np\n",
        "\n",
        "#SIgmoid Activation Function\n",
        "def sigmoid(x):\n",
        "  return 1/(1+np.exp(-x))\n",
        "\n",
        "#Derivative of Sigmoid\n",
        "def sigmoid_derivative(x):\n",
        "  return x*(1-x)\n",
        "\n",
        "#FeedForward Neural Network class\n",
        "class FeedforwardNN:\n",
        "  def __init__(self, input_size, hidden_size,output_size):\n",
        "    #Initialize the weights and biases\n",
        "    self.input_size = input_size\n",
        "    self.hidden_size = hidden_size\n",
        "    self.output_size = output_size\n",
        "\n",
        "    #Randomly initialize weights and biases\n",
        "    self.weights_input_hidden = np.random.rand(input_size, hidden_size)\n",
        "    self.bias_hidden = np.random.rand(1,hidden_size)\n",
        "    self.weights_hidden_output = np.random.rand(hidden_size, output_size)\n",
        "    self.bias_output = np.random.rand(1,output_size)\n",
        "\n",
        "def feedforward(self,X):\n",
        "  #Calculate hidden layer activation\n",
        "  self.hidden_input = np.dot(X, self.weights_input_hidden) + self.bias_hidden\n",
        "  self.hidden_output = sigmoid(self.hidden_input)\n",
        "\n",
        "  #Calculate output layer activations\n",
        "  self.output_input = np.dot(self.hidden_output, self.weights_hidden_output) + self.bias_output\n",
        "  self.output = sigmoid(self.output_input)\n",
        "\n",
        "  return self.output\n",
        "\n",
        "def backpropagation(self, X, y, learning_rate):\n",
        "  #Calculate the error\n",
        "  error = y - self.output\n",
        "\n"
      ],
      "metadata": {
        "id": "pYT3rPC1ojEl"
      },
      "execution_count": 1,
      "outputs": []
    }
  ]
}